{
 "cells": [
  {
   "cell_type": "markdown",
   "metadata": {},
   "source": [
    "# Tank Sizing Python Code for Propellants and Pressurant Using Assumptions\n",
    "### Note: Only N2 for pressurant, LOX for oxidizer, and kerosene for fuel (SO FAR)\n",
    "### Note: Only isothermal assumption coded (SO FAR)"
   ]
  },
  {
   "cell_type": "code",
   "execution_count": 168,
   "metadata": {},
   "outputs": [],
   "source": [
    "import math\n",
    "import numpy as np\n",
    "\n",
    "import warnings\n",
    "warnings.filterwarnings('ignore')"
   ]
  },
  {
   "cell_type": "markdown",
   "metadata": {},
   "source": [
    "# LOX Tank Volume Calculator\n",
    "### Note: Density as a function of temperature and pressure yet to be implemented\n",
    "Density taken at boiling point of O2"
   ]
  },
  {
   "cell_type": "code",
   "execution_count": 169,
   "metadata": {},
   "outputs": [
    {
     "name": "stdout",
     "output_type": "stream",
     "text": [
      "lox massflow = 1.22230625 kg/s\n",
      "lox massflow = 2.6947208048749998 lb/s\n",
      "lox mass = 12.2230625 kg\n",
      "lox mass = 26.947208048749996 lb\n",
      "lox tank volume = 0.012810566205821772 m^3\n",
      "lox tank volume = 0.45240130238873416 ft^3\n"
     ]
    }
   ],
   "source": [
    "burntime=10 # seconds\n",
    "massflow_pressurant=1.7779 #kg/s\n",
    "OF=2.2 # Oxidizer to Fuel ratio\n",
    "ullageRatio=1.15 # percentage of tank that is ullage\n",
    "#T= # in Kelvin\n",
    "density=1097.26 #kg/m^3\n",
    "\n",
    "def loxVolume(burntime, massflow_pressurant, OF, ullageRatio):\n",
    "    massflow=massflow_pressurant*OF/(OF+1)\n",
    "    mass=burntime*massflow\n",
    "    volume=mass/density\n",
    "    volumeFinal=volume*ullageRatio\n",
    "    print(\"lox massflow = \" + str(massflow) + \" kg/s\")\n",
    "    print(\"lox massflow = \" + str(massflow*2.20462) + \" lb/s\")\n",
    "    print(\"lox mass = \" + str(mass) + \" kg\")\n",
    "    print(\"lox mass = \" + str(mass*2.20462) + \" lb\")\n",
    "    print(\"lox tank volume = \" + str(volumeFinal) + \" m^3\")\n",
    "    print(\"lox tank volume = \" + str(volumeFinal*35.3147) + \" ft^3\")\n",
    "    \n",
    "\n",
    "loxVolume(burntime,massflow_pressurant,OF,ullageRatio)"
   ]
  },
  {
   "cell_type": "markdown",
   "metadata": {},
   "source": [
    "# Kerosene Tank Volume Calculator\n",
    "### Note: Density as a function of temperature and pressure yet to be implemented\n",
    "Density taken at room temp. (298 K)"
   ]
  },
  {
   "cell_type": "code",
   "execution_count": 170,
   "metadata": {},
   "outputs": [
    {
     "name": "stdout",
     "output_type": "stream",
     "text": [
      "kerosene massflow = 0.553125 kg/s\n",
      "kerosene massflow = 1.2194304374999998 kg/s\n",
      "kerosene mass = 5.53125 kg\n",
      "kerosene mass = 12.194304375 lb\n",
      "kerosene tank volume = 0.007757240853658536 m^3\n",
      "kerosene tank volume = 0.2739446335746951 ft^3\n"
     ]
    }
   ],
   "source": [
    "burntime=10 # seconds\n",
    "massflow_pressurant=1.77 #kg/s\n",
    "OF=2.2 # Oxidizer to Fuel ratio\n",
    "ullageRatio=1.15 # percentage of tank that is ullage\n",
    "#T= # in Kelvin\n",
    "density=820 #kg/m^3\n",
    "\n",
    "def keroVolume(burntime, massflow_pressurant, OF, ullageRatio):\n",
    "    massflow=massflow_pressurant*1/(OF+1)\n",
    "    mass=burntime*massflow\n",
    "    volume=mass/density\n",
    "    volumeFinal=volume*ullageRatio\n",
    "    print(\"kerosene massflow = \" + str(massflow) + \" kg/s\")\n",
    "    print(\"kerosene massflow = \" + str(massflow*2.20462) + \" kg/s\")\n",
    "    print(\"kerosene mass = \" + str(mass) + \" kg\")\n",
    "    print(\"kerosene mass = \" + str(mass*2.20462) + \" lb\")\n",
    "    print(\"kerosene tank volume = \" + str(volumeFinal) + \" m^3\")\n",
    "    print(\"kerosene tank volume = \" + str(volumeFinal*35.3147) + \" ft^3\")\n",
    "    \n",
    "keroVolume(burntime,massflow_pressurant,OF,ullageRatio)"
   ]
  },
  {
   "cell_type": "markdown",
   "metadata": {},
   "source": [
    "# Tank Height Needed to House Propellant (With Ellipsoidal Ends)\n",
    "### Note: Does not account for thickness, thickness of tank assumed to be 0 in"
   ]
  },
  {
   "cell_type": "code",
   "execution_count": 171,
   "metadata": {},
   "outputs": [
    {
     "name": "stdout",
     "output_type": "stream",
     "text": [
      "propellant tank volume 473.2992 in^3\n",
      "volume of ellipsoidal caps = 37.69911184307752 in^3\n",
      "cylinder tank height for 6 in diameter with 1 in ellipsoidal caps is: 15.406201609208798 in\n"
     ]
    }
   ],
   "source": [
    "semi_axis=1 #in\n",
    "radius=3 #in\n",
    "propVolume=0.2739 #ft^3 (ullage ratio factored in from keroVolume function)\n",
    "\n",
    "def elpsTankHeight(semi_axis,radius, propVolume):\n",
    "    propVolume=propVolume*12**3 #ft^3 to in^3\n",
    "    print(\"propellant tank volume \" + str(propVolume) + \" in^3\")\n",
    "    elpsCapVolume=2*2/3*math.pi*radius**2*semi_axis #volume of both caps combined\n",
    "    print(\"volume of ellipsoidal caps = \" + str(elpsCapVolume) + \" in^3\")\n",
    "    elpsTankHeight=(propVolume - elpsCapVolume)/math.pi/radius**2 #solve for tank height in between caps\n",
    "    print(\"cylinder tank height for 6 in diameter with \" + str(semi_axis) + \" in ellipsoidal caps is: \" + str(elpsTankHeight) + \" in\")\n",
    "\n",
    "elpsTankHeight(semi_axis, radius, propVolume)"
   ]
  },
  {
   "cell_type": "markdown",
   "metadata": {},
   "source": [
    "# Pressurant Tank Volume Functions\n",
    "\n",
    "### Note: Compressibility and Volume Functions only run with at least two pressure values inputted, if you only want to try a single pressure use P=np.ones(2)s*(pressure)\n",
    "### Note: Pressure must input in psi, Temperature must be input in Kelvin, mass must be in kg\n",
    "\n",
    "## Functions:"
   ]
  },
  {
   "cell_type": "code",
   "execution_count": 172,
   "metadata": {},
   "outputs": [],
   "source": [
    "def calculate_compressibility_factor(temperature, pressure):\n",
    "    # Constants for nitrogen (N2)\n",
    "    critical_temperature = 126.2  # K\n",
    "    critical_pressure = 3.39  # MPa\n",
    "    pressure=pressure*6894.76/1e6 # convert from psi\n",
    "\n",
    "    # Redlich-Kwong parameters\n",
    "    a = 0.42748 * (critical_temperature ** 2.5) / critical_pressure\n",
    "    b = 0.08664 * critical_temperature / critical_pressure\n",
    "\n",
    "    # Calculate A and B terms in the Redlich-Kwong equation\n",
    "    A = a * pressure / (8.314 * temperature ** 2)\n",
    "    B = b * pressure / (8.314 * temperature)\n",
    "\n",
    "    n=len(pressure)\n",
    "    Z=np.zeros(n)\n",
    "\n",
    "    # Solve the cubic equation to find the compressibility factor\n",
    "    for i in range(0,len(pressure)):\n",
    "        coefficients = [1, -1, A[i] - B[i] - B[i]**2, -A[i] * B[i]]\n",
    "        roots = np.roots(coefficients)\n",
    "        \n",
    "        # Filter the real and positive roots (physical solutions)\n",
    "        valid_roots = [root for root in roots if root.real > 0 and root.imag == 0]\n",
    "\n",
    "        if not valid_roots:\n",
    "            return None\n",
    "        else:\n",
    "            Z[i] = max(valid_roots)\n",
    "        \n",
    "    return Z\n",
    "\n",
    "def calculate_nitrogen_volume(mass, T, P, Z):\n",
    "    molar_mass_nitrogen = 0.0280134  # kg/mol\n",
    "    R = 8.314  # J/(mol·K)\n",
    "\n",
    "    P=P*6894.76 # convert from psi to Pa\n",
    "\n",
    "    moles_of_nitrogen = mass / molar_mass_nitrogen\n",
    "\n",
    "    volume = (Z * moles_of_nitrogen * R * T) / P\n",
    "\n",
    "    volume = volume * 35.3147 # convert from m^3 to ft^3\n",
    "\n",
    "    return volume\n"
   ]
  },
  {
   "cell_type": "markdown",
   "metadata": {},
   "source": [
    "# Isothermal Assumption\n",
    "$$ \\frac{P_i V_i}{m_i R T_i} = \\frac{P_f V_f}{m_f R T_f} $$\n",
    "$$ T_f=T_i $$\n",
    "$$ V_f=V_i $$\n",
    "\n",
    "Control Volume is N2 tank only\n",
    "\n",
    "$$ C_{backflow} = 1.2 $$\n",
    "\n",
    "Not based on any documentation, just a safety factor\n",
    "\n",
    "$$ P_f = C_{backflow} P_{propellant} = (1.2)(600psi) = 720 psi$$\n",
    "$$ m_f = m_i - \\dot{m}_{pressurant} t_b $$\n",
    "$$ \\frac{P_i}{m_i} = \\frac{720 psi}{m_i - (1.7779 \\frac{kg}{s})(10 s)} $$\n",
    "\n",
    "We want to find pressure and mass in order to calculate volume. A new constraint is necessary to solve system of equations. Possible constraints: \\\n",
    "Max Tank dimensions (Volume constraint) \\\n",
    "Max Tank thickness (Pressure constraint) \\\n",
    "Max Amount of N2 we want to use (Mass constraint)\n",
    "\n",
    "Without any constraints, we can solve by arbitrarily choosing either an initial mass or initial pressure for the tank.\n",
    "\n",
    "To find roots, rearrange equation:\n",
    "\n",
    "$$ "
   ]
  },
  {
   "cell_type": "code",
   "execution_count": 173,
   "metadata": {},
   "outputs": [
    {
     "name": "stdout",
     "output_type": "stream",
     "text": [
      "residual = [-2.32830644e-10]\n",
      "mass of N2 = [20.20340909]\n"
     ]
    }
   ],
   "source": [
    "from scipy.optimize import fsolve\n",
    "\n",
    "massflow_pressurant = 1.7779                    # kg/s\n",
    "burntime = 10                                   # s\n",
    "psi2pa = 6894.76                                # convert psi to Pa\n",
    "initial_pressure = 6000                         # psi\n",
    "final_pressure = 720                            # psi\n",
    "\n",
    "\n",
    "def calculate_nitrogen_mass_isot(massflow_pressurant, burntime, initial_pressure, final_pressure):\n",
    "\n",
    "    def equation(x):\n",
    "        return initial_pressure*psi2pa/x - final_pressure*psi2pa/(x - massflow_pressurant*burntime)\n",
    "\n",
    "    initial_guess = 6                           # kg\n",
    "\n",
    "    mass = fsolve(equation,initial_guess)\n",
    "    print('residual = {}'.format(equation(mass)))\n",
    "    print('mass of N2 = {}'.format(mass))\n",
    "\n",
    "    return mass\n",
    "\n",
    "mass=calculate_nitrogen_mass_isot(massflow_pressurant, burntime, initial_pressure, final_pressure)\n"
   ]
  },
  {
   "cell_type": "code",
   "execution_count": 174,
   "metadata": {},
   "outputs": [
    {
     "name": "stdout",
     "output_type": "stream",
     "text": [
      "N2 tank volume = 0.09016169108313321 ft^3\n",
      "155.7994021916542 in^3\n",
      "2.5530905740628667 L\n"
     ]
    }
   ],
   "source": [
    "T = 298\n",
    "P = np.ones(2)*initial_pressure\n",
    "Z = calculate_compressibility_factor(T,P)\n",
    "N2volume = calculate_nitrogen_volume(mass,T,P,Z)\n",
    "\n",
    "cbcFt2liters = 28.3168\n",
    "\n",
    "print('N2 tank volume = {} ft^3'.format(N2volume[0]))\n",
    "print('{} in^3'.format(N2volume[0]*12**3))\n",
    "print('{} L'.format(N2volume[0]*cbcFt2liters))"
   ]
  },
  {
   "cell_type": "markdown",
   "metadata": {},
   "source": [
    "# IN PROGRESS: Isenthalpic Assumption"
   ]
  }
 ],
 "metadata": {
  "kernelspec": {
   "display_name": "Python 3",
   "language": "python",
   "name": "python3"
  },
  "language_info": {
   "codemirror_mode": {
    "name": "ipython",
    "version": 3
   },
   "file_extension": ".py",
   "mimetype": "text/x-python",
   "name": "python",
   "nbconvert_exporter": "python",
   "pygments_lexer": "ipython3",
   "version": "3.12.0"
  },
  "orig_nbformat": 4
 },
 "nbformat": 4,
 "nbformat_minor": 2
}
